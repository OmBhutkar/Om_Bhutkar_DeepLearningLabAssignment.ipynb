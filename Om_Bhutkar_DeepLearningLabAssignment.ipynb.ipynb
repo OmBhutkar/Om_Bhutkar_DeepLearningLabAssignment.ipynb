{
  "nbformat": 4,
  "nbformat_minor": 0,
  "metadata": {
    "colab": {
      "provenance": []
    },
    "kernelspec": {
      "name": "python3",
      "display_name": "Python 3"
    },
    "language_info": {
      "name": "python"
    }
  },
  "cells": [
    {
      "cell_type": "code",
      "execution_count": 2,
      "metadata": {
        "colab": {
          "base_uri": "https://localhost:8080/"
        },
        "id": "667A81HYmOBE",
        "outputId": "6ea240cd-0fa4-45dc-aacf-cd8fd5033c54"
      },
      "outputs": [
        {
          "output_type": "stream",
          "name": "stdout",
          "text": [
            "Epoch 0 - Loss: 0.20483235297159677\n",
            "Epoch 1000 - Loss: 0.18815129873642003\n",
            "Epoch 2000 - Loss: 0.17346993195161337\n",
            "Epoch 3000 - Loss: 0.10385369556713733\n",
            "Epoch 4000 - Loss: 0.03877419017251518\n",
            "Epoch 5000 - Loss: 0.016186539509514257\n",
            "Epoch 6000 - Loss: 0.008775192248239722\n",
            "Epoch 7000 - Loss: 0.00564165579044863\n",
            "Epoch 8000 - Loss: 0.00402437963632719\n",
            "Epoch 9000 - Loss: 0.0030701713263273206\n",
            "\n",
            "Predictions after training:\n",
            "[[0.99882004]\n",
            " [0.95213494]\n",
            " [0.95335347]\n",
            " [0.07309679]]\n"
          ]
        }
      ],
      "source": [
        "import numpy as np\n",
        "\n",
        "# Sigmoid Activation Function: Maps any input to a value between 0 and 1.\n",
        "def sigmoid(x):\n",
        "    return 1 / (1 + np.exp(-x))\n",
        "\n",
        "# Derivative of Sigmoid Activation Function: Used during backpropagation to calculate the gradient.\n",
        "def sigmoid_derivative(x):\n",
        "    return x * (1 - x)\n",
        "\n",
        "# Neural Network Class Definition\n",
        "class NeuralNetwork:\n",
        "    def __init__(self, input_size, hidden_size, output_size):  # Initialize the neural network with the given sizes for the input, hidden, and output layers.\n",
        "        self.input_size = input_size\n",
        "        self.hidden_size = hidden_size\n",
        "        self.output_size = output_size\n",
        "        # Initialize weights and biases closer to zero\n",
        "        self.weights_input_hidden = np.array([[0.1, 0.2, 0.3], [0.4, 0.5, 0.6]])  # Input to hidden\n",
        "        self.bias_hidden = np.array([[0.1, 0.1, 0.1]])  # Hidden layer bias\n",
        "\n",
        "        self.weights_hidden_output = np.array([[0.2], [0.3], [0.4]])  # Hidden to output\n",
        "        self.bias_output = np.array([[0.1]])  # Output layer bias\n",
        "\n",
        "    def forward(self, X):\n",
        "        # Perform the forward pass of the neural network. Compute the activations for the input, hidden, and output layers.\n",
        "\n",
        "        self.input_layer = X  # Store the input data\n",
        "\n",
        "        # Calculate the input to the hidden layer and apply the activation function\n",
        "        self.hidden_layer_input = np.dot(self.input_layer, self.weights_input_hidden) + self.bias_hidden\n",
        "        self.hidden_layer_output = sigmoid(self.hidden_layer_input)\n",
        "\n",
        "        # Calculate the input to the output layer and apply the activation function\n",
        "        self.output_layer_input = np.dot(self.hidden_layer_output, self.weights_hidden_output) + self.bias_output\n",
        "        self.output_layer_output = sigmoid(self.output_layer_input)\n",
        "\n",
        "        return self.output_layer_output\n",
        "\n",
        "    def backward(self, X, y, learning_rate):\n",
        "        # Perform the backward pass of the neural network (backpropagation). This step adjusts the weights based on the error in the output.\n",
        "\n",
        "        # Compute the error in the output layer\n",
        "        error_output = y - self.output_layer_output\n",
        "\n",
        "        # Calculate the gradient (delta) for the output layer\n",
        "        output_layer_delta = error_output * sigmoid_derivative(self.output_layer_output)\n",
        "\n",
        "        # Compute the error in the hidden layer\n",
        "        error_hidden = output_layer_delta.dot(self.weights_hidden_output.T)\n",
        "\n",
        "        # Calculate the gradient (delta) for the hidden layer\n",
        "        hidden_layer_delta = error_hidden * sigmoid_derivative(self.hidden_layer_output)\n",
        "\n",
        "        # Update weights and biases\n",
        "        # Update weights from hidden to output layer\n",
        "        self.weights_hidden_output += self.hidden_layer_output.T.dot(output_layer_delta) * learning_rate\n",
        "\n",
        "        # Update bias for the output layer\n",
        "        self.bias_output += np.sum(output_layer_delta, axis=0, keepdims=True) * learning_rate\n",
        "\n",
        "        # Update weights from input to hidden layer\n",
        "        self.weights_input_hidden += X.T.dot(hidden_layer_delta) * learning_rate\n",
        "\n",
        "        # Update bias for the hidden layer\n",
        "        self.bias_hidden += np.sum(hidden_layer_delta, axis=0, keepdims=True) * learning_rate\n",
        "\n",
        "    def train(self, X, y, epochs, learning_rate):\n",
        "        # Train the neural network on the provided data using the forward and backward passes.\n",
        "\n",
        "        for epoch in range(epochs):\n",
        "            self.forward(X)\n",
        "\n",
        "            self.backward(X, y, learning_rate)\n",
        "\n",
        "            # Print loss (mean squared error) every 1000 epochs\n",
        "            if epoch % 1000 == 0:\n",
        "                loss = np.mean(np.square(y - self.output_layer_output))\n",
        "                print(f\"Epoch {epoch} - Loss: {loss}\")\n",
        "\n",
        "# Main Program\n",
        "if __name__ == \"__main__\":\n",
        "    # NAND Problem Dataset\n",
        "    X = np.array([[0, 0], [0, 1], [1, 0], [1, 1]])\n",
        "    y = np.array([[1], [1], [1], [0]])\n",
        "\n",
        "    # Increased hidden layer size to 3 neurons\n",
        "    nn = NeuralNetwork(input_size=2, hidden_size=3, output_size=1)\n",
        "\n",
        "    # Train for 10,000 epochs with a smaller learning rate for better convergence\n",
        "    nn.train(X, y, epochs=10000, learning_rate=0.05)\n",
        "\n",
        "    print(\"\\nPredictions after training:\")\n",
        "    print(nn.forward(X))\n"
      ]
    },
    {
      "cell_type": "code",
      "source": [],
      "metadata": {
        "id": "BxXG_XQbmQqv"
      },
      "execution_count": null,
      "outputs": []
    }
  ]
}